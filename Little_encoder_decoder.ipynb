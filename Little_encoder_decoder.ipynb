{
  "nbformat": 4,
  "nbformat_minor": 0,
  "metadata": {
    "colab": {
      "name": "Little_encoder_decoder",
      "provenance": [],
      "collapsed_sections": [],
      "authorship_tag": "ABX9TyNxZOpKiP0SXrpm4Emu+Oxk",
      "include_colab_link": true
    },
    "kernelspec": {
      "name": "python3",
      "display_name": "Python 3"
    },
    "language_info": {
      "name": "python"
    },
    "accelerator": "GPU"
  },
  "cells": [
    {
      "cell_type": "markdown",
      "metadata": {
        "id": "view-in-github",
        "colab_type": "text"
      },
      "source": [
        "<a href=\"https://colab.research.google.com/github/ataryan4561/road_to_machine_translation/blob/main/Little_encoder_decoder.ipynb\" target=\"_parent\"><img src=\"https://colab.research.google.com/assets/colab-badge.svg\" alt=\"Open In Colab\"/></a>"
      ]
    },
    {
      "cell_type": "code",
      "metadata": {
        "colab": {
          "base_uri": "https://localhost:8080/"
        },
        "id": "0O_j_MSCyf0i",
        "outputId": "05867c30-89a6-4e10-8c2d-12dcb1bb35eb"
      },
      "source": [
        "from numpy import array\n",
        "!pip install keras \n",
        "from numpy import argmax\n",
        "import numpy as np\n",
        "from tensorflow.keras.utils import to_categorical"
      ],
      "execution_count": 11,
      "outputs": [
        {
          "output_type": "stream",
          "text": [
            "Requirement already satisfied: keras in /usr/local/lib/python3.7/dist-packages (2.4.3)\n",
            "Requirement already satisfied: scipy>=0.14 in /usr/local/lib/python3.7/dist-packages (from keras) (1.4.1)\n",
            "Requirement already satisfied: pyyaml in /usr/local/lib/python3.7/dist-packages (from keras) (3.13)\n",
            "Requirement already satisfied: h5py in /usr/local/lib/python3.7/dist-packages (from keras) (3.1.0)\n",
            "Requirement already satisfied: numpy>=1.9.1 in /usr/local/lib/python3.7/dist-packages (from keras) (1.19.5)\n",
            "Requirement already satisfied: cached-property in /usr/local/lib/python3.7/dist-packages (from h5py->keras) (1.5.2)\n"
          ],
          "name": "stdout"
        }
      ]
    },
    {
      "cell_type": "code",
      "metadata": {
        "id": "Soo0v6Nkz59c"
      },
      "source": [
        "word2index = {\"I\":0,\"like\": 1,\"cats\": 2}"
      ],
      "execution_count": 6,
      "outputs": []
    },
    {
      "cell_type": "code",
      "metadata": {
        "colab": {
          "base_uri": "https://localhost:8080/"
        },
        "id": "C-XshlJh0LI8",
        "outputId": "46f8bc27-6f3b-4358-aa8b-88a0c53c7204"
      },
      "source": [
        "words = [\"I\",\"like\",\"cats\"]\n",
        "word_ids = [word2index[w] for w in words]\n",
        "print(word_ids)"
      ],
      "execution_count": 7,
      "outputs": [
        {
          "output_type": "stream",
          "text": [
            "[0, 1, 2]\n"
          ],
          "name": "stdout"
        }
      ]
    },
    {
      "cell_type": "code",
      "metadata": {
        "colab": {
          "base_uri": "https://localhost:8080/"
        },
        "id": "FAghmZl-0m-1",
        "outputId": "c3738381-03a5-4db7-f5d8-6e94040cf2e6"
      },
      "source": [
        "onehot_1 = to_categorical(word_ids)\n",
        "print([(w,ohe.tolist()) for w,ohe in zip(words, onehot_1)])"
      ],
      "execution_count": 12,
      "outputs": [
        {
          "output_type": "stream",
          "text": [
            "[('I', [1.0, 0.0, 0.0]), ('like', [0.0, 1.0, 0.0]), ('cats', [0.0, 0.0, 1.0])]\n"
          ],
          "name": "stdout"
        }
      ]
    },
    {
      "cell_type": "code",
      "metadata": {
        "id": "hfjFw93E1of1"
      },
      "source": [
        "def words2onehot(word_list, word2index):\n",
        "  word_ids = [word2index[w] for w in word_list]\n",
        "  onehot = to_categorical(word_ids, 3)\n",
        "  return onehot"
      ],
      "execution_count": 13,
      "outputs": []
    },
    {
      "cell_type": "code",
      "metadata": {
        "id": "g5C1eJd5076T"
      },
      "source": [
        "def encoder(onehot):\n",
        "  word_ids = np.argmax(onehot, axis=1)\n",
        "  return word_ids"
      ],
      "execution_count": 14,
      "outputs": []
    },
    {
      "cell_type": "code",
      "metadata": {
        "colab": {
          "base_uri": "https://localhost:8080/"
        },
        "id": "GUKrGx1P2N1X",
        "outputId": "1f2338c8-79dd-4e8e-fa91-654a95d85eb0"
      },
      "source": [
        "onehot = words2onehot([\"I\",\"like\",\"cats\"], word2index)\n",
        "context = encoder(onehot)\n",
        "print(context)"
      ],
      "execution_count": 15,
      "outputs": [
        {
          "output_type": "stream",
          "text": [
            "[0 1 2]\n"
          ],
          "name": "stdout"
        }
      ]
    },
    {
      "cell_type": "code",
      "metadata": {
        "id": "MPSoOscJ2SJy"
      },
      "source": [
        "def decoder(context_vector):\n",
        "  word_ids_rev = context_vector[::-1]\n",
        "  onehot_rev = to_categorical(word_ids_rev, 3)\n",
        "  return onehot_rev"
      ],
      "execution_count": 16,
      "outputs": []
    },
    {
      "cell_type": "code",
      "metadata": {
        "id": "Kobm4cyi2fey"
      },
      "source": [
        "def onehot2words(onehot, index2word):\n",
        "  ids = np.argmax(onehot, axis=1)\n",
        "  return [index2word[id] for id in ids]"
      ],
      "execution_count": 17,
      "outputs": []
    },
    {
      "cell_type": "code",
      "metadata": {
        "colab": {
          "base_uri": "https://localhost:8080/"
        },
        "id": "VGpbHeKc2kZQ",
        "outputId": "6eae137a-4a12-45cb-acd6-f69355fe4350"
      },
      "source": [
        "onehot_rev = decoder(context)\n",
        "index2word = {0:\"I\",1:\"like\",2:\"cats\"}\n",
        "reversed_words = onehot2words(onehot_rev, index2word)\n",
        "print(reversed_words)"
      ],
      "execution_count": 20,
      "outputs": [
        {
          "output_type": "stream",
          "text": [
            "['cats', 'like', 'I']\n"
          ],
          "name": "stdout"
        }
      ]
    }
  ]
}